{
 "cells": [
  {
   "cell_type": "markdown",
   "metadata": {},
   "source": [
    "# **DeepLandforms**\n",
    "\n",
    "Author: giacomo.nodjoumi@hyranet.info - g.nodjoumi@jacobs-university.de\n",
    "\n",
    "## DeepLandforms Segmentation\n",
    "\n",
    "With this notebook, users can use custom trained models for instance segmentation models on custom dataset of georeferenced images.\n",
    "The output consist of a folder containing:\n",
    "* Source Images in which at least one detection occurred\n",
    "* Label file in COCO json format for each image\n",
    "* Geopackage containing a single layer with image name, confidence leve, class.\n",
    "\n",
    "## Usage\n",
    "\n",
    "* Put or link the dataset into the **DeepLandforms** *.env* file\n",
    "* Run docker-compose up\n",
    "* Edit the *configs* section by editing the following parameters:\n",
    "------------------------------------------------------------------\n",
    "| **Parameter** | **Function** | **Common Values** |\n",
    "| ---- | ---- | ---- |\n",
    "| **batch_size** | N° of images to be processed at once | Depending on VRAM and image size, up to 8 per 8GB VRAM |\n",
    "| **geopackage_name** |  Name of the final geopackage |  |\n",
    "| **proj_geopackage_name** | Name of the final geopackage in custom projection | |\n",
    "| **model_path** | local path and name of the model  | it should start with /pre-trained_models/ |\n",
    "| **model_yaml** | Model Architecture | MASK-R-CNN in this work | EDIT according to trained model selected |\n",
    "| **dst_crs** | CRS of the geopackage | provide as WKT or proj4 |\n",
    "\n",
    "------------------------------------------------------------------\n",
    "Then just execute the notebook and monitor the training in **Tensorboard** container.\n",
    "\n",
    "## Funding\n",
    "*This study is within the Europlanet 2024 RI and EXPLORE project, and it has received funding from the European Union’s Horizon 2020 research and innovation programme under grant agreement No 871149 and No 101004214.*"
   ]
  },
  {
   "cell_type": "code",
   "execution_count": 1,
   "metadata": {},
   "outputs": [],
   "source": [
    "import cv2\n",
    "from datetime import datetime\n",
    "import detectron2\n",
    "from detectron2 import model_zoo\n",
    "from detectron2.config import get_cfg\n",
    "from detectron2.data.catalog import Metadata\n",
    "import numpy as np\n",
    "import os\n",
    "import geopandas as gpd\n",
    "import pandas as pd\n",
    "import psutil\n",
    "from pyproj import CRS\n",
    "#from pycocotools import mask\n",
    "import random\n",
    "import rasterio as rio\n",
    "from rasterio.plot import reshape_as_image\n",
    "import shutil\n",
    "import torch\n",
    "from tqdm import tqdm\n",
    "from utils.GenUtils import get_paths\n",
    "from utils.detectron_utils import CustomPredictor\n",
    "from utils.geoshape_utils import parallel_funcs, chunk_creator, mask2shape, pred2coco, pred2shape, crs_validator"
   ]
  },
  {
   "cell_type": "code",
   "execution_count": 2,
   "metadata": {},
   "outputs": [
    {
     "name": "stdout",
     "output_type": "stream",
     "text": [
      "1.9.0+cu111\n"
     ]
    },
    {
     "data": {
      "text/plain": [
       "'NVIDIA GeForce RTX 2070 with Max-Q Design'"
      ]
     },
     "execution_count": 2,
     "metadata": {},
     "output_type": "execute_result"
    }
   ],
   "source": [
    "print(torch.__version__)\n",
    "torch.cuda.is_available()\n",
    "torch.cuda.get_device_name()"
   ]
  },
  {
   "cell_type": "markdown",
   "metadata": {},
   "source": [
    "## CONFIGURATION - edit befor run"
   ]
  },
  {
   "cell_type": "code",
   "execution_count": 3,
   "metadata": {},
   "outputs": [],
   "source": [
    "batch_size = 8\n",
    "image_path = '../data/5m_relabeled'\n",
    "geopackage_name = '/Inferred_Shapes.gpkg' ## Example for HiRISE \n",
    "proj_geopackage_name = '/Inferred_Shapes_projected.gpkg' ## Example for HiRISE \n",
    "model_path = '../pre-trained_model/model_final.pth'\n",
    "#model_path = '../data/tra'/\n",
    "model_yaml = \"COCO-InstanceSegmentation/mask_rcnn_R_50_FPN_3x.yaml\" ## EDIT according to trained model selected\n",
    "#src_crs = CRS.from_user_input('PROJCRS[\"Equirectangular MARS\", BASEGEOGCRS[\"GCS_MARS\",DATUM[\"unnamed\",ELLIPSOID[\"unnamed\",3393833.2607584,0,LENGTHUNIT[\"metre\",1,ID[\"EPSG\",9001]]]],PRIMEM[\"Reference meridian\",0,ANGLEUNIT[\"degree\",0.0174532925199433,ID[\"EPSG\",9122]]]],CONVERSION[\"unnamed\",METHOD[\"Equidistant Cylindrical\",ID[\"EPSG\",1028]],PARAMETER[\"Latitude of natural origin\",20,ANGLEUNIT[\"degree\",0.0174532925199433],ID[\"EPSG\",8801]],PARAMETER[\"Longitude of natural origin\",180,ANGLEUNIT[\"degree\",0.0174532925199433],ID[\"EPSG\",8802]],PARAMETER[\"Latitude of 1st standard parallel\",0,ANGLEUNIT[\"degree\",0.0174532925199433],ID[\"EPSG\",8823]],PARAMETER[\"False easting\",0,LENGTHUNIT[\"metre\",1],ID[\"EPSG\",8806]],PARAMETER[\"False northing\",0,LENGTHUNIT[\"metre\",1],ID[\"EPSG\",8807]]],CS[Cartesian,2],AXIS[\"easting\",east,ORDER[1],LENGTHUNIT[\"metre\",1,ID[\"EPSG\",9001]]],AXIS[\"northing\",north,ORDER[2],LENGTHUNIT[\"metre\",1,ID[\"EPSG\",9001]]]]')\n",
    "#dst_crs = CRS.from_user_input('PROJCS[\"Equirectangular MARS\",GEOGCS[\"GCS_MARS\",DATUM[\"unnamed\",SPHEROID[\"unnamed\",3395582.0270805,0]],PRIMEM[\"Reference meridian\",0],UNIT[\"degree\",0.0174532925199433,AUTHORITY[\"EPSG\",\"9122\"]]],PROJECTION[\"Equirectangular\"],PARAMETER[\"latitude_of_origin\",10],PARAMETER[\"central_meridian\",180],PARAMETER[\"standard_parallel_1\",0],PARAMETER[\"false_easting\",0],PARAMETER[\"false_northing\",0],UNIT[\"metre\",1,AUTHORITY[\"EPSG\",\"9001\"]],AXIS[\"Easting\",EAST],AXIS[\"Northing\",NORTH]]')\n",
    "dst_crs = CRS.from_wkt('PROJCRS[\"Equirectangular MARS\", BASEGEOGCRS[\"GCS_MARS\", DATUM[\"unnamed\", ELLIPSOID[\"unnamed\",3396190,0, LENGTHUNIT[\"metre\",1,  ID[\"EPSG\",9001]]]], PRIMEM[\"Reference meridian\",0, ANGLEUNIT[\"degree\",0.0174532925199433,\t\tID[\"EPSG\",9122]]]], CONVERSION[\"Equidistant Cylindrical\", METHOD[\"Equidistant Cylindrical\", ID[\"EPSG\",1028]], PARAMETER[\"Latitude of 1st standard parallel\",0, ANGLEUNIT[\"degree\",0.0174532925199433], ID[\"EPSG\",8823]], PARAMETER[\"Longitude of natural origin\",180, ANGLEUNIT[\"degree\",0.0174532925199433], ID[\"EPSG\",8802]], PARAMETER[\"False easting\",0, LENGTHUNIT[\"metre\",1], ID[\"EPSG\",8806]], PARAMETER[\"False northing\",0, LENGTHUNIT[\"metre\",1], ID[\"EPSG\",8807]]], CS[Cartesian,2], AXIS[\"easting\",east, ORDER[1], LENGTHUNIT[\"metre\",1, ID[\"EPSG\",9001]]], AXIS[\"northing\",north, ORDER[2], LENGTHUNIT[\"metre\",1, ID[\"EPSG\",9001]]]]')\n",
    "dst_crs_2 = CRS.from_user_input('GEOGCRS[\"GCS_Mars_2000_Sphere\", DATUM[\"Mars_2000_(Sphere)\", ELLIPSOID[\"Mars_2000_Sphere_IAU_IAG\",3396190,0, LENGTHUNIT[\"metre\",1]], ID[\"ESRI\",106971]], PRIMEM[\"Reference_Meridian\",0, ANGLEUNIT[\"Degree\",0.0174532925199433]], CS[ellipsoidal,2], AXIS[\"longitude\",east, ORDER[1], ANGLEUNIT[\"Degree\",0.0174532925199433]], AXIS[\"latitude\",north, ORDER[2], ANGLEUNIT[\"Degree\",0.0174532925199433]]]')"
   ]
  },
  {
   "cell_type": "code",
   "execution_count": 4,
   "metadata": {},
   "outputs": [
    {
     "data": {
      "text/plain": [
       "namespace(thing_classes=['Type-3',\n",
       "                         'Type-4',\n",
       "                         'Type-1a',\n",
       "                         'Crater',\n",
       "                         'Type-1b',\n",
       "                         'Type-2b',\n",
       "                         'Type-2a'])"
      ]
     },
     "execution_count": 4,
     "metadata": {},
     "output_type": "execute_result"
    }
   ],
   "source": [
    "out_dir = image_path+'/outputs'\n",
    "os.makedirs(out_dir, exist_ok=True)\n",
    "class_file = os.path.dirname(model_path)+'/trained_classes.csv'\n",
    "class_df = pd.read_csv(class_file)\n",
    "classes = class_df[class_df.columns[0]].tolist()\n",
    "meta = Metadata()\n",
    "meta.set(thing_classes=classes)"
   ]
  },
  {
   "cell_type": "code",
   "execution_count": 5,
   "metadata": {},
   "outputs": [],
   "source": [
    "images = get_paths(image_path,'tiff')\n",
    "src_crs = CRS.from_wkt(rio.open(image_path+'/'+images[0]).crs.to_wkt())"
   ]
  },
  {
   "cell_type": "code",
   "execution_count": 6,
   "metadata": {},
   "outputs": [],
   "source": [
    "cfg = get_cfg()\n",
    "cfg.merge_from_file(model_zoo.get_config_file(model_yaml))\n",
    "cfg.MODEL.ROI_HEADS.NUM_CLASSES =  len(classes)\n",
    "cfg.MODEL.WEIGHTS = model_path\n",
    "cfg.MODEL.ROI_HEADS.SCORE_THRESH_TEST = 0.7\n",
    "cfg.INPUT.MIN_SIZE_TEST = 1000\n",
    "cfg.INPUT.MAX_SIZE_TEST = 3000"
   ]
  },
  {
   "cell_type": "code",
   "execution_count": 7,
   "metadata": {},
   "outputs": [
    {
     "name": "stdout",
     "output_type": "stream",
     "text": [
      "../data/5m_relabeled/outputs/Inferred_Shapes.gpkg: No such file or directory\n",
      "[Errno 2] No such file or directory: '../data/5m_relabeled/outputs/Processed.csv'\n"
     ]
    }
   ],
   "source": [
    "cols = ['Name','Class','Score']\n",
    "dst_gpkg = out_dir+'/Inferred_Shapes.gpkg'\n",
    "proc_csv = out_dir+'/Processed.csv'\n",
    "try:\n",
    "    geoshapes = gpd.read_file(dst_gpkg)\n",
    "except Exception as e:\n",
    "    print(e)\n",
    "    #geoshapes = gpd.GeoDataFrame(columns=cols)\n",
    "    pass\n",
    "try:\n",
    "    proc_df = pd.read_csv(proc_csv)\n",
    "except Exception as e:\n",
    "    print(e)\n",
    "    proc_df = pd.DataFrame(columns=['Name','Detections'])\n",
    "    pass"
   ]
  },
  {
   "cell_type": "code",
   "execution_count": 8,
   "metadata": {},
   "outputs": [
    {
     "data": {
      "text/plain": [
       "19"
      ]
     },
     "execution_count": 8,
     "metadata": {},
     "output_type": "execute_result"
    }
   ],
   "source": [
    "chunks = list(chunk_creator(images,batch_size))\n",
    "len(chunks)"
   ]
  },
  {
   "cell_type": "code",
   "execution_count": 9,
   "metadata": {},
   "outputs": [
    {
     "name": "stderr",
     "output_type": "stream",
     "text": [
      "The checkpoint state_dict contains keys that are not used by the model:\n",
      "  \u001b[35mpixel_mean\u001b[0m\n",
      "  \u001b[35mpixel_std\u001b[0m\n",
      "Generating Images:   0%|          | 0/152 [00:00<?, ?File/s]/usr/local/lib/python3.9/dist-packages/torch/_tensor.py:575: UserWarning: floor_divide is deprecated, and will be removed in a future version of pytorch. It currently rounds toward 0 (like the 'trunc' function NOT 'floor'). This results in incorrect rounding for negative values.\n",
      "To keep the current behavior, use torch.div(a, b, rounding_mode='trunc'), or for actual floor division, use torch.div(a, b, rounding_mode='floor'). (Triggered internally at  /pytorch/aten/src/ATen/native/BinaryOps.cpp:467.)\n",
      "  return torch.floor_divide(self, other)\n",
      "/usr/local/lib/python3.9/dist-packages/torch/nn/functional.py:718: UserWarning: Named tensors and all their associated APIs are an experimental feature and subject to change. Please do not use them for anything important until they are released as stable. (Triggered internally at  /pytorch/c10/core/TensorImpl.h:1156.)\n",
      "  return torch.max_pool2d(input, kernel_size, stride, padding, dilation, ceil_mode)\n",
      "Generating Images: 100%|██████████| 152/152 [01:00<00:00,  2.52File/s]"
     ]
    },
    {
     "name": "stdout",
     "output_type": "stream",
     "text": [
      "0:01:00.249668\n"
     ]
    },
    {
     "name": "stderr",
     "output_type": "stream",
     "text": [
      "\n"
     ]
    }
   ],
   "source": [
    "CP = CustomPredictor(cfg)\n",
    "JOBS=psutil.cpu_count(logical=False)\n",
    "with tqdm(total=len(images),\n",
    "             desc = 'Generating Images',\n",
    "             unit='File') as pbar:\n",
    "    start = datetime.now()\n",
    "    gdf_list = []\n",
    "    for d in range(len(chunks)):\n",
    "        chunk = list(chunks[d])\n",
    "\n",
    "        lambda_f = lambda element:element not in proc_df['Name'].to_list()\n",
    "        filtered = filter(lambda_f, chunk)\n",
    "\n",
    "        chunk = list(filtered)\n",
    "        if len(chunk)>0:\n",
    "            \n",
    "            data_dict = [{'Name': ii, 'Detections': np.nan} for ii in chunk]\n",
    "            tmp_df = pd.DataFrame.from_dict(data_dict)\n",
    "            paths = [image_path+'/'+ele for ele in chunk]\n",
    "            open_images = [rio.open(img_path) for img_path in paths]\n",
    "            imgs = [reshape_as_image(image.read()) for image in open_images]\n",
    "            predictions = CP(imgs)\n",
    "            masks = predictions[0]['instances'].pred_masks.cpu().numpy()\n",
    "            if len(masks)>0:\n",
    "                detections = []\n",
    "                for i in range(len(predictions)):\n",
    "                    gdf = pred2shape(predictions[i], paths[i], open_images[i],classes, JOBS, out_dir, i)    \n",
    "                    gdf_list.append(gdf)\n",
    "                    #geoshapes = geoshapes.append(gdf, ignore_index=True)\n",
    "                    #try:\n",
    "                    #    reproj_gdf = crs_validator(geoshapes, gdf)\n",
    "                    #    geoshapes = gpd.GeoDataFrame(pd.concat([geoshapes,reproj_gdf],ignore_index=True),crs=src_crs)\n",
    "                    #except:\n",
    "                    #    geoshapes = gdf.copy()\n",
    "                    #if geoshapes.crs != gdf.crs:\n",
    "                    #    gdf.to_crs(geoshapes.crs)\n",
    "                    #geoshapes = gpd.GeoDataFrame(pd.concat([geoshapes,reproj_gdf],ignore_index=True),crs=src_crs)\n",
    "                    #geoshapes.append(gdf)\n",
    "                    #cv2.imwrite(out_dir,open_images[i])\n",
    "                    shutil.copy(paths[i], out_dir+'/'+os.path.basename(paths[i]))\n",
    "                    #gdf.to_file(dst_gpkg.split('.gpkg')[0]+str(i)+'.gpkg', driver='GPKG', crs=src_crs)     \n",
    "                    #geoshapes.crs = src_crs\n",
    "                    #detections.append(len(geoshapes))\n",
    "                    detections.append(len(gdf))\n",
    "                    #tmp_df['Detections']=len(geoshapes)\n",
    "                    tmp_df['Detections']=len(gdf)\n",
    "                    proc_df = proc_df.append(tmp_df,ignore_index=True)\n",
    "                    proc_df.to_csv(proc_csv, index=False)\n",
    "            else:\n",
    "                tmp_df['Detections'] = 0\n",
    "                proc_df = proc_df.append(tmp_df,ignore_index=True)\n",
    "                proc_df.to_csv(proc_csv, index=False)\n",
    "\n",
    "        pbar.update(batch_size)        \n",
    "        \n",
    "    stop = datetime.now()\n",
    "    print(stop-start)"
   ]
  },
  {
   "cell_type": "code",
   "execution_count": 10,
   "metadata": {},
   "outputs": [],
   "source": [
    "try:\n",
    "    geoshapes.crs\n",
    "except:\n",
    "    geoshapes = gdf_list[0]\n",
    "    #geoshapes = gpd.GeoDataFrame(columns=cols)"
   ]
  },
  {
   "cell_type": "code",
   "execution_count": 11,
   "metadata": {},
   "outputs": [],
   "source": [
    "geoshapes = gdf_list[0]"
   ]
  },
  {
   "cell_type": "code",
   "execution_count": 12,
   "metadata": {},
   "outputs": [],
   "source": [
    "init_crs = gdf_list[0].crs\n",
    "for i in range(len(gdf_list)):\n",
    "    geo = gdf_list[i]\n",
    "    try:\n",
    "        if geo.crs != init_crs:\n",
    "            geo = geo.to_crs(init_crs)\n",
    "#    geoshapes.append(geo, ingore_index=True)\n",
    "    except Exception as e:\n",
    "        print(e)\n",
    "        print(i)\n",
    "        print(geo)\n",
    "        gdf_list.pop(i)\n",
    "        pass\n",
    "    geoshapes = gpd.GeoDataFrame(pd.concat([geoshapes,geo],ignore_index=True))#,crs=init_crs)\n",
    "        \n",
    "    #geoshapes = gpd.GeoDataFrame(pd.concat([geoshapes,geo],ignore_index=True),crs=init_crs)"
   ]
  },
  {
   "cell_type": "code",
   "execution_count": 13,
   "metadata": {},
   "outputs": [],
   "source": [
    "geoshapes = geoshapes[np.isnan(geoshapes['geometry'].area) == False]"
   ]
  },
  {
   "cell_type": "code",
   "execution_count": 14,
   "metadata": {},
   "outputs": [],
   "source": [
    "geoshapes.to_file(out_dir+proj_geopackage_name, driver='GPKG', crs=init_crs) "
   ]
  },
  {
   "cell_type": "code",
   "execution_count": 15,
   "metadata": {},
   "outputs": [
    {
     "data": {
      "text/html": [
       "<div>\n",
       "<style scoped>\n",
       "    .dataframe tbody tr th:only-of-type {\n",
       "        vertical-align: middle;\n",
       "    }\n",
       "\n",
       "    .dataframe tbody tr th {\n",
       "        vertical-align: top;\n",
       "    }\n",
       "\n",
       "    .dataframe thead th {\n",
       "        text-align: right;\n",
       "    }\n",
       "</style>\n",
       "<table border=\"1\" class=\"dataframe\">\n",
       "  <thead>\n",
       "    <tr style=\"text-align: right;\">\n",
       "      <th></th>\n",
       "      <th>Name</th>\n",
       "      <th>Class</th>\n",
       "      <th>Score</th>\n",
       "      <th>geometry</th>\n",
       "    </tr>\n",
       "  </thead>\n",
       "  <tbody>\n",
       "    <tr>\n",
       "      <th>0</th>\n",
       "      <td>ESP_026695_2020_RED_H0_V0_cropped_centered_res...</td>\n",
       "      <td>Crater</td>\n",
       "      <td>0.981484</td>\n",
       "      <td>POLYGON ((4760462.481 1297467.077, 4760497.497...</td>\n",
       "    </tr>\n",
       "    <tr>\n",
       "      <th>1</th>\n",
       "      <td>ESP_026695_2020_RED_H0_V0_cropped_centered_res...</td>\n",
       "      <td>Crater</td>\n",
       "      <td>0.965158</td>\n",
       "      <td>POLYGON ((4761202.826 1298852.722, 4761237.842...</td>\n",
       "    </tr>\n",
       "    <tr>\n",
       "      <th>2</th>\n",
       "      <td>ESP_026695_2020_RED_H0_V0_cropped_centered_res...</td>\n",
       "      <td>Crater</td>\n",
       "      <td>0.964295</td>\n",
       "      <td>POLYGON ((4760842.658 1297136.923, 4760862.667...</td>\n",
       "    </tr>\n",
       "    <tr>\n",
       "      <th>3</th>\n",
       "      <td>ESP_026695_2020_RED_H0_V0_cropped_centered_res...</td>\n",
       "      <td>Crater</td>\n",
       "      <td>0.963039</td>\n",
       "      <td>POLYGON ((4762248.312 1296776.756, 4762308.340...</td>\n",
       "    </tr>\n",
       "    <tr>\n",
       "      <th>4</th>\n",
       "      <td>ESP_026695_2020_RED_H0_V0_cropped_centered_res...</td>\n",
       "      <td>Type-3</td>\n",
       "      <td>0.944745</td>\n",
       "      <td>POLYGON ((4763118.717 1296616.681, 4763153.734...</td>\n",
       "    </tr>\n",
       "    <tr>\n",
       "      <th>...</th>\n",
       "      <td>...</td>\n",
       "      <td>...</td>\n",
       "      <td>...</td>\n",
       "      <td>...</td>\n",
       "    </tr>\n",
       "    <tr>\n",
       "      <th>690</th>\n",
       "      <td>PSP_009910_1690_RED_H2_V0_cropped_centered_res...</td>\n",
       "      <td>Crater</td>\n",
       "      <td>0.912029</td>\n",
       "      <td>POLYGON ((3460999.313 -2415975.339, 3461054.33...</td>\n",
       "    </tr>\n",
       "    <tr>\n",
       "      <th>691</th>\n",
       "      <td>PSP_009910_1690_RED_H2_V0_cropped_centered_res...</td>\n",
       "      <td>Crater</td>\n",
       "      <td>0.901178</td>\n",
       "      <td>POLYGON ((3460694.218 -2413359.530, 3460724.22...</td>\n",
       "    </tr>\n",
       "    <tr>\n",
       "      <th>692</th>\n",
       "      <td>PSP_009910_1690_RED_H2_V0_cropped_centered_res...</td>\n",
       "      <td>Crater</td>\n",
       "      <td>0.855040</td>\n",
       "      <td>POLYGON ((3460774.243 -2415835.295, 3460809.25...</td>\n",
       "    </tr>\n",
       "    <tr>\n",
       "      <th>693</th>\n",
       "      <td>PSP_009910_1690_RED_H2_V0_cropped_centered_res...</td>\n",
       "      <td>Crater</td>\n",
       "      <td>0.736108</td>\n",
       "      <td>POLYGON ((3461059.331 -2413584.599, 3461089.34...</td>\n",
       "    </tr>\n",
       "    <tr>\n",
       "      <th>694</th>\n",
       "      <td>PSP_009910_1690_RED_H2_V0_cropped_centered_res...</td>\n",
       "      <td>Crater</td>\n",
       "      <td>0.722012</td>\n",
       "      <td>POLYGON ((3461129.353 -2414604.915, 3461154.36...</td>\n",
       "    </tr>\n",
       "  </tbody>\n",
       "</table>\n",
       "<p>685 rows × 4 columns</p>\n",
       "</div>"
      ],
      "text/plain": [
       "                                                  Name   Class     Score  \\\n",
       "0    ESP_026695_2020_RED_H0_V0_cropped_centered_res...  Crater  0.981484   \n",
       "1    ESP_026695_2020_RED_H0_V0_cropped_centered_res...  Crater  0.965158   \n",
       "2    ESP_026695_2020_RED_H0_V0_cropped_centered_res...  Crater  0.964295   \n",
       "3    ESP_026695_2020_RED_H0_V0_cropped_centered_res...  Crater  0.963039   \n",
       "4    ESP_026695_2020_RED_H0_V0_cropped_centered_res...  Type-3  0.944745   \n",
       "..                                                 ...     ...       ...   \n",
       "690  PSP_009910_1690_RED_H2_V0_cropped_centered_res...  Crater  0.912029   \n",
       "691  PSP_009910_1690_RED_H2_V0_cropped_centered_res...  Crater  0.901178   \n",
       "692  PSP_009910_1690_RED_H2_V0_cropped_centered_res...  Crater  0.855040   \n",
       "693  PSP_009910_1690_RED_H2_V0_cropped_centered_res...  Crater  0.736108   \n",
       "694  PSP_009910_1690_RED_H2_V0_cropped_centered_res...  Crater  0.722012   \n",
       "\n",
       "                                              geometry  \n",
       "0    POLYGON ((4760462.481 1297467.077, 4760497.497...  \n",
       "1    POLYGON ((4761202.826 1298852.722, 4761237.842...  \n",
       "2    POLYGON ((4760842.658 1297136.923, 4760862.667...  \n",
       "3    POLYGON ((4762248.312 1296776.756, 4762308.340...  \n",
       "4    POLYGON ((4763118.717 1296616.681, 4763153.734...  \n",
       "..                                                 ...  \n",
       "690  POLYGON ((3460999.313 -2415975.339, 3461054.33...  \n",
       "691  POLYGON ((3460694.218 -2413359.530, 3460724.22...  \n",
       "692  POLYGON ((3460774.243 -2415835.295, 3460809.25...  \n",
       "693  POLYGON ((3461059.331 -2413584.599, 3461089.34...  \n",
       "694  POLYGON ((3461129.353 -2414604.915, 3461154.36...  \n",
       "\n",
       "[685 rows x 4 columns]"
      ]
     },
     "execution_count": 15,
     "metadata": {},
     "output_type": "execute_result"
    }
   ],
   "source": [
    "geoshapes"
   ]
  }
 ],
 "metadata": {
  "kernelspec": {
   "display_name": "Python 3 (ipykernel)",
   "language": "python",
   "name": "python3"
  },
  "language_info": {
   "codemirror_mode": {
    "name": "ipython",
    "version": 3
   },
   "file_extension": ".py",
   "mimetype": "text/x-python",
   "name": "python",
   "nbconvert_exporter": "python",
   "pygments_lexer": "ipython3",
   "version": "3.9.5"
  }
 },
 "nbformat": 4,
 "nbformat_minor": 4
}
