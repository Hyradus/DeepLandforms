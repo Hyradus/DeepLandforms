{
 "cells": [
  {
   "cell_type": "markdown",
   "metadata": {},
   "source": [
    "# **DeepLandforms**\n",
    "\n",
    "Author: giacomo.nodjoumi@hyranet.info - g.nodjoumi@jacobs-university.de\n",
    "\n",
    "## DeepLandforms Segmentation\n",
    "\n",
    "With this notebook, users can use custom trained models for instance segmentation models on custom dataset of georeferenced images.\n",
    "The output consist of a folder containing:\n",
    "* Source Images in which at least one detection occurred\n",
    "* Label file in COCO json format for each image\n",
    "* Geopackage containing a single layer with image name, confidence leve, class.\n",
    "\n",
    "## Usage\n",
    "\n",
    "* Put or link the dataset into the **DeepLandforms** *.env* file\n",
    "* Run docker-compose up\n",
    "* Edit the *configs* section by editing the following parameters:\n",
    "------------------------------------------------------------------\n",
    "| **Parameter** | **Function** | **Common Values** |\n",
    "| ---- | ---- | ---- |\n",
    "| **batch_size** | N° of images to be processed at once | Depending on VRAM and image size, up to 8 per 8GB VRAM |\n",
    "| **geopackage_name** |  Name of the final geopackage |  |\n",
    "| **proj_geopackage_name** | Name of the final geopackage in custom projection | |\n",
    "| **model_path** | local path and name of the model  | it should start with /pre-trained_models/ |\n",
    "| **model_yaml** | Model Architecture | MASK-R-CNN in this work | EDIT according to trained model selected |\n",
    "| **dst_crs** | CRS of the geopackage | provide as WKT or proj4 |\n",
    "\n",
    "------------------------------------------------------------------\n",
    "Then just execute the notebook and monitor the training in **Tensorboard** container.\n",
    "\n",
    "## Funding\n",
    "*This study is within the Europlanet 2024 RI and EXPLORE project, and it has received funding from the European Union’s Horizon 2020 research and innovation programme under grant agreement No 871149 and No 101004214.*"
   ]
  },
  {
   "cell_type": "code",
   "execution_count": 1,
   "metadata": {},
   "outputs": [],
   "source": [
    "import cv2\n",
    "from datetime import datetime\n",
    "import detectron2\n",
    "from detectron2 import model_zoo\n",
    "from detectron2.config import get_cfg\n",
    "from detectron2.data.catalog import Metadata\n",
    "import numpy as np\n",
    "import os\n",
    "import geopandas as gpd\n",
    "import pandas as pd\n",
    "import psutil\n",
    "from pyproj import CRS\n",
    "#from pycocotools import mask\n",
    "import random\n",
    "import rasterio as rio\n",
    "from rasterio.plot import reshape_as_image\n",
    "import shutil\n",
    "import torch\n",
    "from tqdm import tqdm\n",
    "from utils.GenUtils import get_paths\n",
    "from utils.detectron_utils import CustomPredictor\n",
    "from utils.geoshape_utils import parallel_funcs, chunk_creator, mask2shape, pred2coco, pred2shape, crs_validator"
   ]
  },
  {
   "cell_type": "code",
   "execution_count": 2,
   "metadata": {},
   "outputs": [
    {
     "name": "stdout",
     "output_type": "stream",
     "text": [
      "1.9.0+cu111\n"
     ]
    },
    {
     "data": {
      "text/plain": [
       "'NVIDIA GeForce RTX 2070 with Max-Q Design'"
      ]
     },
     "execution_count": 2,
     "metadata": {},
     "output_type": "execute_result"
    }
   ],
   "source": [
    "print(torch.__version__)\n",
    "torch.cuda.is_available()\n",
    "torch.cuda.get_device_name()"
   ]
  },
  {
   "cell_type": "markdown",
   "metadata": {},
   "source": [
    "## CONFIGURATION - edit befor run"
   ]
  },
  {
   "cell_type": "code",
   "execution_count": 3,
   "metadata": {},
   "outputs": [],
   "source": [
    "batch_size = 8\n",
    "image_path = '../data'\n",
    "geopackage_name = '/Inferred_Shapes.gpkg' ## Example for HiRISE \n",
    "proj_geopackage_name = '/Inferred_Shapes_projected.gpkg' ## Example for HiRISE \n",
    "model_path = '../pre-trained_model/model_final.pth'\n",
    "model_yaml = \"COCO-InstanceSegmentation/mask_rcnn_R_50_FPN_3x.yaml\" ## EDIT according to trained model selected\n",
    "#src_crs = CRS.from_user_input('PROJCRS[\"Equirectangular MARS\", BASEGEOGCRS[\"GCS_MARS\",DATUM[\"unnamed\",ELLIPSOID[\"unnamed\",3393833.2607584,0,LENGTHUNIT[\"metre\",1,ID[\"EPSG\",9001]]]],PRIMEM[\"Reference meridian\",0,ANGLEUNIT[\"degree\",0.0174532925199433,ID[\"EPSG\",9122]]]],CONVERSION[\"unnamed\",METHOD[\"Equidistant Cylindrical\",ID[\"EPSG\",1028]],PARAMETER[\"Latitude of natural origin\",20,ANGLEUNIT[\"degree\",0.0174532925199433],ID[\"EPSG\",8801]],PARAMETER[\"Longitude of natural origin\",180,ANGLEUNIT[\"degree\",0.0174532925199433],ID[\"EPSG\",8802]],PARAMETER[\"Latitude of 1st standard parallel\",0,ANGLEUNIT[\"degree\",0.0174532925199433],ID[\"EPSG\",8823]],PARAMETER[\"False easting\",0,LENGTHUNIT[\"metre\",1],ID[\"EPSG\",8806]],PARAMETER[\"False northing\",0,LENGTHUNIT[\"metre\",1],ID[\"EPSG\",8807]]],CS[Cartesian,2],AXIS[\"easting\",east,ORDER[1],LENGTHUNIT[\"metre\",1,ID[\"EPSG\",9001]]],AXIS[\"northing\",north,ORDER[2],LENGTHUNIT[\"metre\",1,ID[\"EPSG\",9001]]]]')\n",
    "#dst_crs = CRS.from_user_input('PROJCS[\"Equirectangular MARS\",GEOGCS[\"GCS_MARS\",DATUM[\"unnamed\",SPHEROID[\"unnamed\",3395582.0270805,0]],PRIMEM[\"Reference meridian\",0],UNIT[\"degree\",0.0174532925199433,AUTHORITY[\"EPSG\",\"9122\"]]],PROJECTION[\"Equirectangular\"],PARAMETER[\"latitude_of_origin\",10],PARAMETER[\"central_meridian\",180],PARAMETER[\"standard_parallel_1\",0],PARAMETER[\"false_easting\",0],PARAMETER[\"false_northing\",0],UNIT[\"metre\",1,AUTHORITY[\"EPSG\",\"9001\"]],AXIS[\"Easting\",EAST],AXIS[\"Northing\",NORTH]]')\n",
    "dst_crs = CRS.from_wkt('PROJCRS[\"Equirectangular MARS\", BASEGEOGCRS[\"GCS_MARS\", DATUM[\"unnamed\", ELLIPSOID[\"unnamed\",3396190,0, LENGTHUNIT[\"metre\",1,  ID[\"EPSG\",9001]]]], PRIMEM[\"Reference meridian\",0, ANGLEUNIT[\"degree\",0.0174532925199433,\t\tID[\"EPSG\",9122]]]], CONVERSION[\"Equidistant Cylindrical\", METHOD[\"Equidistant Cylindrical\", ID[\"EPSG\",1028]], PARAMETER[\"Latitude of 1st standard parallel\",0, ANGLEUNIT[\"degree\",0.0174532925199433], ID[\"EPSG\",8823]], PARAMETER[\"Longitude of natural origin\",180, ANGLEUNIT[\"degree\",0.0174532925199433], ID[\"EPSG\",8802]], PARAMETER[\"False easting\",0, LENGTHUNIT[\"metre\",1], ID[\"EPSG\",8806]], PARAMETER[\"False northing\",0, LENGTHUNIT[\"metre\",1], ID[\"EPSG\",8807]]], CS[Cartesian,2], AXIS[\"easting\",east, ORDER[1], LENGTHUNIT[\"metre\",1, ID[\"EPSG\",9001]]], AXIS[\"northing\",north, ORDER[2], LENGTHUNIT[\"metre\",1, ID[\"EPSG\",9001]]]]')\n",
    "#dst_crs = CRS.from_user_input('GEOGCRS[\"GCS_Mars_2000_Sphere\", DATUM[\"Mars_2000_(Sphere)\", ELLIPSOID[\"Mars_2000_Sphere_IAU_IAG\",3396190,0, LENGTHUNIT[\"metre\",1]], ID[\"ESRI\",106971]], PRIMEM[\"Reference_Meridian\",0, ANGLEUNIT[\"Degree\",0.0174532925199433]], CS[ellipsoidal,2], AXIS[\"longitude\",east, ORDER[1], ANGLEUNIT[\"Degree\",0.0174532925199433]], AXIS[\"latitude\",north, ORDER[2], ANGLEUNIT[\"Degree\",0.0174532925199433]]]')"
   ]
  },
  {
   "cell_type": "code",
   "execution_count": 4,
   "metadata": {},
   "outputs": [
    {
     "data": {
      "text/plain": [
       "'/home/user/DeepLandforms'"
      ]
     },
     "execution_count": 4,
     "metadata": {},
     "output_type": "execute_result"
    }
   ],
   "source": [
    "\n",
    "os.getcwd()"
   ]
  },
  {
   "cell_type": "code",
   "execution_count": 5,
   "metadata": {},
   "outputs": [
    {
     "data": {
      "text/plain": [
       "namespace(thing_classes=['Type-3',\n",
       "                         'Type-4',\n",
       "                         'Type-1a',\n",
       "                         'Crater',\n",
       "                         'Type-1b',\n",
       "                         'Type-2b',\n",
       "                         'Type-2a'])"
      ]
     },
     "execution_count": 5,
     "metadata": {},
     "output_type": "execute_result"
    }
   ],
   "source": [
    "out_dir = image_path+'/outputs'\n",
    "os.makedirs(out_dir, exist_ok=True)\n",
    "class_file = os.path.dirname(model_path)+'/trained_classes.csv'\n",
    "class_df = pd.read_csv(class_file)\n",
    "classes = class_df[class_df.columns[0]].tolist()\n",
    "meta = Metadata()\n",
    "meta.set(thing_classes=classes)"
   ]
  },
  {
   "cell_type": "code",
   "execution_count": 6,
   "metadata": {},
   "outputs": [],
   "source": [
    "images = get_paths(image_path,'tiff')\n",
    "src_crs = CRS.from_wkt(rio.open(image_path+'/'+images[0]).crs.to_wkt())\n"
   ]
  },
  {
   "cell_type": "code",
   "execution_count": 7,
   "metadata": {},
   "outputs": [],
   "source": [
    "cfg = get_cfg()\n",
    "cfg.merge_from_file(model_zoo.get_config_file(model_yaml))\n",
    "cfg.MODEL.ROI_HEADS.NUM_CLASSES =  len(classes)\n",
    "cfg.MODEL.WEIGHTS = model_path\n",
    "cfg.MODEL.ROI_HEADS.SCORE_THRESH_TEST = 0.8"
   ]
  },
  {
   "cell_type": "code",
   "execution_count": 8,
   "metadata": {},
   "outputs": [
    {
     "name": "stdout",
     "output_type": "stream",
     "text": [
      "../data/outputs/Inferred_Shapes.gpkg: No such file or directory\n",
      "[Errno 2] No such file or directory: '../data/outputs/Processed.csv'\n"
     ]
    }
   ],
   "source": [
    "cols = ['Name','Class','Score']\n",
    "dst_gpkg = out_dir+'/Inferred_Shapes.gpkg'\n",
    "proc_csv = out_dir+'/Processed.csv'\n",
    "try:\n",
    "    geoshapes = gpd.read_file(dst_gpkg)\n",
    "except Exception as e:\n",
    "    print(e)\n",
    "    #geoshapes = gpd.GeoDataFrame(columns=cols)\n",
    "    pass\n",
    "try:\n",
    "    proc_df = pd.read_csv(proc_csv)\n",
    "except Exception as e:\n",
    "    print(e)\n",
    "    proc_df = pd.DataFrame(columns=['Name','Detections'])\n",
    "    pass"
   ]
  },
  {
   "cell_type": "code",
   "execution_count": 9,
   "metadata": {},
   "outputs": [
    {
     "data": {
      "text/plain": [
       "1"
      ]
     },
     "execution_count": 9,
     "metadata": {},
     "output_type": "execute_result"
    }
   ],
   "source": [
    "chunks = list(chunk_creator(images,batch_size))\n",
    "len(chunks)"
   ]
  },
  {
   "cell_type": "code",
   "execution_count": 10,
   "metadata": {},
   "outputs": [
    {
     "name": "stderr",
     "output_type": "stream",
     "text": [
      "The checkpoint state_dict contains keys that are not used by the model:\n",
      "  \u001b[35mpixel_mean\u001b[0m\n",
      "  \u001b[35mpixel_std\u001b[0m\n",
      "Generating Images:   0%|          | 0/2 [00:00<?, ?File/s]/usr/local/lib/python3.9/dist-packages/torch/_tensor.py:575: UserWarning: floor_divide is deprecated, and will be removed in a future version of pytorch. It currently rounds toward 0 (like the 'trunc' function NOT 'floor'). This results in incorrect rounding for negative values.\n",
      "To keep the current behavior, use torch.div(a, b, rounding_mode='trunc'), or for actual floor division, use torch.div(a, b, rounding_mode='floor'). (Triggered internally at  /pytorch/aten/src/ATen/native/BinaryOps.cpp:467.)\n",
      "  return torch.floor_divide(self, other)\n",
      "/usr/local/lib/python3.9/dist-packages/torch/nn/functional.py:718: UserWarning: Named tensors and all their associated APIs are an experimental feature and subject to change. Please do not use them for anything important until they are released as stable. (Triggered internally at  /pytorch/c10/core/TensorImpl.h:1156.)\n",
      "  return torch.max_pool2d(input, kernel_size, stride, padding, dilation, ceil_mode)\n",
      "Generating Images: 8File [00:04,  1.70File/s]             "
     ]
    },
    {
     "name": "stdout",
     "output_type": "stream",
     "text": [
      "0:00:04.717602\n"
     ]
    },
    {
     "name": "stderr",
     "output_type": "stream",
     "text": [
      "\n"
     ]
    }
   ],
   "source": [
    "CP = CustomPredictor(cfg)\n",
    "JOBS=psutil.cpu_count(logical=False)\n",
    "with tqdm(total=len(images),\n",
    "             desc = 'Generating Images',\n",
    "             unit='File') as pbar:\n",
    "    start = datetime.now()\n",
    "    gdf_list = []\n",
    "    for d in range(len(chunks)):\n",
    "        chunk = list(chunks[d])\n",
    "\n",
    "        lambda_f = lambda element:element not in proc_df['Name'].to_list()\n",
    "        filtered = filter(lambda_f, chunk)\n",
    "\n",
    "        chunk = list(filtered)\n",
    "        if len(chunk)>0:\n",
    "            \n",
    "            data_dict = [{'Name': ii, 'Detections': np.nan} for ii in chunk]\n",
    "            tmp_df = pd.DataFrame.from_dict(data_dict)\n",
    "            paths = [image_path+'/'+ele for ele in chunk]\n",
    "            open_images = [rio.open(img_path) for img_path in paths]\n",
    "            imgs = [reshape_as_image(image.read()) for image in open_images]\n",
    "            predictions = CP(imgs)\n",
    "            masks = predictions[0]['instances'].pred_masks.cpu().numpy()\n",
    "            if len(masks)>0:\n",
    "                detections = []\n",
    "                for i in range(len(predictions)):\n",
    "                    gdf = pred2shape(predictions[i], paths[i], open_images[i],classes, JOBS, out_dir, i)    \n",
    "                    gdf_list.append(gdf)\n",
    "                    #geoshapes = geoshapes.append(gdf, ignore_index=True)\n",
    "                    #try:\n",
    "                    #    reproj_gdf = crs_validator(geoshapes, gdf)\n",
    "                    #    geoshapes = gpd.GeoDataFrame(pd.concat([geoshapes,reproj_gdf],ignore_index=True),crs=src_crs)\n",
    "                    #except:\n",
    "                    #    geoshapes = gdf.copy()\n",
    "                    #if geoshapes.crs != gdf.crs:\n",
    "                    #    gdf.to_crs(geoshapes.crs)\n",
    "                    #geoshapes = gpd.GeoDataFrame(pd.concat([geoshapes,reproj_gdf],ignore_index=True),crs=src_crs)\n",
    "                    #geoshapes.append(gdf)\n",
    "                    #cv2.imwrite(out_dir,open_images[i])\n",
    "                    shutil.copy(paths[i], out_dir+'/'+os.path.basename(paths[i]))\n",
    "                    #gdf.to_file(dst_gpkg.split('.gpkg')[0]+str(i)+'.gpkg', driver='GPKG', crs=src_crs)     \n",
    "                    #geoshapes.crs = src_crs\n",
    "                    #detections.append(len(geoshapes))\n",
    "                    detections.append(len(gdf))\n",
    "                    #tmp_df['Detections']=len(geoshapes)\n",
    "                    tmp_df['Detections']=len(gdf)\n",
    "                    proc_df = proc_df.append(tmp_df,ignore_index=True)\n",
    "                    proc_df.to_csv(proc_csv, index=False)\n",
    "            else:\n",
    "                tmp_df['Detections'] = 0\n",
    "                proc_df = proc_df.append(tmp_df,ignore_index=True)\n",
    "                proc_df.to_csv(proc_csv, index=False)\n",
    "\n",
    "        pbar.update(batch_size)        \n",
    "        \n",
    "    stop = datetime.now()\n",
    "    print(stop-start)"
   ]
  },
  {
   "cell_type": "code",
   "execution_count": 14,
   "metadata": {},
   "outputs": [],
   "source": [
    "try:\n",
    "    geoshapes.crs\n",
    "except:\n",
    "    geoshapes = gdf_list[0]"
   ]
  },
  {
   "cell_type": "code",
   "execution_count": 29,
   "metadata": {},
   "outputs": [],
   "source": [
    "init_crs = gdf_list[0].crs\n",
    "for geo in gdf_list:\n",
    "    if geo.crs != init_crs:\n",
    "        geo = geo.to_crs(init_crs)\n",
    "#    geoshapes.append(geo, ingore_index=True)\n",
    "    geoshapes = gpd.GeoDataFrame(pd.concat([geoshapes,geo],ignore_index=True),crs=init_crs)"
   ]
  },
  {
   "cell_type": "code",
   "execution_count": 30,
   "metadata": {},
   "outputs": [
    {
     "data": {
      "text/html": [
       "<div>\n",
       "<style scoped>\n",
       "    .dataframe tbody tr th:only-of-type {\n",
       "        vertical-align: middle;\n",
       "    }\n",
       "\n",
       "    .dataframe tbody tr th {\n",
       "        vertical-align: top;\n",
       "    }\n",
       "\n",
       "    .dataframe thead th {\n",
       "        text-align: right;\n",
       "    }\n",
       "</style>\n",
       "<table border=\"1\" class=\"dataframe\">\n",
       "  <thead>\n",
       "    <tr style=\"text-align: right;\">\n",
       "      <th></th>\n",
       "      <th>Name</th>\n",
       "      <th>Class</th>\n",
       "      <th>Score</th>\n",
       "      <th>geometry</th>\n",
       "    </tr>\n",
       "  </thead>\n",
       "  <tbody>\n",
       "    <tr>\n",
       "      <th>0</th>\n",
       "      <td>ESP_012600_1655_RED_resized_5.0m.tiff</td>\n",
       "      <td>Crater</td>\n",
       "      <td>0.997397</td>\n",
       "      <td>POLYGON ((3505082.829 -852660.064, 3505152.848...</td>\n",
       "    </tr>\n",
       "    <tr>\n",
       "      <th>1</th>\n",
       "      <td>ESP_012600_1655_RED_resized_5.0m.tiff</td>\n",
       "      <td>Crater</td>\n",
       "      <td>0.996076</td>\n",
       "      <td>POLYGON ((3504667.717 -849234.887, 3504712.729...</td>\n",
       "    </tr>\n",
       "    <tr>\n",
       "      <th>2</th>\n",
       "      <td>ESP_012600_1655_RED_resized_5.0m.tiff</td>\n",
       "      <td>Type-3</td>\n",
       "      <td>0.993024</td>\n",
       "      <td>POLYGON ((3502267.066 -840029.411, 3502562.146...</td>\n",
       "    </tr>\n",
       "    <tr>\n",
       "      <th>3</th>\n",
       "      <td>ESP_012600_1655_RED_resized_5.0m.tiff</td>\n",
       "      <td>Crater</td>\n",
       "      <td>0.984109</td>\n",
       "      <td>POLYGON ((3505342.900 -854160.141, 3505407.917...</td>\n",
       "    </tr>\n",
       "    <tr>\n",
       "      <th>4</th>\n",
       "      <td>ESP_012600_1655_RED_resized_5.0m.tiff</td>\n",
       "      <td>Crater</td>\n",
       "      <td>0.951020</td>\n",
       "      <td>POLYGON ((3505287.885 -853520.108, 3505362.905...</td>\n",
       "    </tr>\n",
       "    <tr>\n",
       "      <th>5</th>\n",
       "      <td>ESP_012600_1655_RED_resized_5.0m.tiff</td>\n",
       "      <td>Crater</td>\n",
       "      <td>0.926981</td>\n",
       "      <td>POLYGON ((3504727.733 -849784.915, 3504747.738...</td>\n",
       "    </tr>\n",
       "    <tr>\n",
       "      <th>6</th>\n",
       "      <td>ESP_012600_1655_RED_resized_5.0m.tiff</td>\n",
       "      <td>Crater</td>\n",
       "      <td>0.921223</td>\n",
       "      <td>POLYGON ((3507213.407 -849929.923, 3507258.419...</td>\n",
       "    </tr>\n",
       "    <tr>\n",
       "      <th>7</th>\n",
       "      <td>ESP_012600_1655_RED_resized_5.0m.tiff</td>\n",
       "      <td>Crater</td>\n",
       "      <td>0.884942</td>\n",
       "      <td>POLYGON ((3504752.740 -850289.941, 3504802.753...</td>\n",
       "    </tr>\n",
       "    <tr>\n",
       "      <th>8</th>\n",
       "      <td>ESP_012600_1655_RED_resized_5.0m.tiff</td>\n",
       "      <td>Crater</td>\n",
       "      <td>0.809708</td>\n",
       "      <td>POLYGON ((3505207.863 -853135.088, 3505277.882...</td>\n",
       "    </tr>\n",
       "    <tr>\n",
       "      <th>9</th>\n",
       "      <td>ESP_012600_1655_RED_resized_5.0m.tiff</td>\n",
       "      <td>Crater</td>\n",
       "      <td>0.997397</td>\n",
       "      <td>POLYGON ((3505082.829 -852660.064, 3505152.848...</td>\n",
       "    </tr>\n",
       "    <tr>\n",
       "      <th>10</th>\n",
       "      <td>ESP_012600_1655_RED_resized_5.0m.tiff</td>\n",
       "      <td>Crater</td>\n",
       "      <td>0.996076</td>\n",
       "      <td>POLYGON ((3504667.717 -849234.887, 3504712.729...</td>\n",
       "    </tr>\n",
       "    <tr>\n",
       "      <th>11</th>\n",
       "      <td>ESP_012600_1655_RED_resized_5.0m.tiff</td>\n",
       "      <td>Type-3</td>\n",
       "      <td>0.993024</td>\n",
       "      <td>POLYGON ((3502267.066 -840029.411, 3502562.146...</td>\n",
       "    </tr>\n",
       "    <tr>\n",
       "      <th>12</th>\n",
       "      <td>ESP_012600_1655_RED_resized_5.0m.tiff</td>\n",
       "      <td>Crater</td>\n",
       "      <td>0.984109</td>\n",
       "      <td>POLYGON ((3505342.900 -854160.141, 3505407.917...</td>\n",
       "    </tr>\n",
       "    <tr>\n",
       "      <th>13</th>\n",
       "      <td>ESP_012600_1655_RED_resized_5.0m.tiff</td>\n",
       "      <td>Crater</td>\n",
       "      <td>0.951020</td>\n",
       "      <td>POLYGON ((3505287.885 -853520.108, 3505362.905...</td>\n",
       "    </tr>\n",
       "    <tr>\n",
       "      <th>14</th>\n",
       "      <td>ESP_012600_1655_RED_resized_5.0m.tiff</td>\n",
       "      <td>Crater</td>\n",
       "      <td>0.926981</td>\n",
       "      <td>POLYGON ((3504727.733 -849784.915, 3504747.738...</td>\n",
       "    </tr>\n",
       "    <tr>\n",
       "      <th>15</th>\n",
       "      <td>ESP_012600_1655_RED_resized_5.0m.tiff</td>\n",
       "      <td>Crater</td>\n",
       "      <td>0.921223</td>\n",
       "      <td>POLYGON ((3507213.407 -849929.923, 3507258.419...</td>\n",
       "    </tr>\n",
       "    <tr>\n",
       "      <th>16</th>\n",
       "      <td>ESP_012600_1655_RED_resized_5.0m.tiff</td>\n",
       "      <td>Crater</td>\n",
       "      <td>0.884942</td>\n",
       "      <td>POLYGON ((3504752.740 -850289.941, 3504802.753...</td>\n",
       "    </tr>\n",
       "    <tr>\n",
       "      <th>17</th>\n",
       "      <td>ESP_012600_1655_RED_resized_5.0m.tiff</td>\n",
       "      <td>Crater</td>\n",
       "      <td>0.809708</td>\n",
       "      <td>POLYGON ((3505207.863 -853135.088, 3505277.882...</td>\n",
       "    </tr>\n",
       "    <tr>\n",
       "      <th>18</th>\n",
       "      <td>ESP_013681_1765_RED_resized_5.0m.tiff</td>\n",
       "      <td>Type-4</td>\n",
       "      <td>0.951140</td>\n",
       "      <td>POLYGON ((3933708.682 397855.352, 3933723.687 ...</td>\n",
       "    </tr>\n",
       "    <tr>\n",
       "      <th>19</th>\n",
       "      <td>ESP_013681_1765_RED_resized_5.0m.tiff</td>\n",
       "      <td>Crater</td>\n",
       "      <td>0.936033</td>\n",
       "      <td>POLYGON ((3934644.008 402750.493, 3934714.032 ...</td>\n",
       "    </tr>\n",
       "    <tr>\n",
       "      <th>20</th>\n",
       "      <td>ESP_013681_1765_RED_resized_5.0m.tiff</td>\n",
       "      <td>Crater</td>\n",
       "      <td>0.930171</td>\n",
       "      <td>POLYGON ((3935574.332 404235.535, 3935614.346 ...</td>\n",
       "    </tr>\n",
       "    <tr>\n",
       "      <th>21</th>\n",
       "      <td>ESP_013681_1765_RED_resized_5.0m.tiff</td>\n",
       "      <td>Type-2a</td>\n",
       "      <td>0.843990</td>\n",
       "      <td>POLYGON ((3934353.907 397235.335, 3934408.926 ...</td>\n",
       "    </tr>\n",
       "    <tr>\n",
       "      <th>22</th>\n",
       "      <td>ESP_013681_1765_RED_resized_5.0m.tiff</td>\n",
       "      <td>Type-2a</td>\n",
       "      <td>0.825440</td>\n",
       "      <td>POLYGON ((3933463.596 397240.335, 3933533.621 ...</td>\n",
       "    </tr>\n",
       "  </tbody>\n",
       "</table>\n",
       "</div>"
      ],
      "text/plain": [
       "                                     Name    Class     Score  \\\n",
       "0   ESP_012600_1655_RED_resized_5.0m.tiff   Crater  0.997397   \n",
       "1   ESP_012600_1655_RED_resized_5.0m.tiff   Crater  0.996076   \n",
       "2   ESP_012600_1655_RED_resized_5.0m.tiff   Type-3  0.993024   \n",
       "3   ESP_012600_1655_RED_resized_5.0m.tiff   Crater  0.984109   \n",
       "4   ESP_012600_1655_RED_resized_5.0m.tiff   Crater  0.951020   \n",
       "5   ESP_012600_1655_RED_resized_5.0m.tiff   Crater  0.926981   \n",
       "6   ESP_012600_1655_RED_resized_5.0m.tiff   Crater  0.921223   \n",
       "7   ESP_012600_1655_RED_resized_5.0m.tiff   Crater  0.884942   \n",
       "8   ESP_012600_1655_RED_resized_5.0m.tiff   Crater  0.809708   \n",
       "9   ESP_012600_1655_RED_resized_5.0m.tiff   Crater  0.997397   \n",
       "10  ESP_012600_1655_RED_resized_5.0m.tiff   Crater  0.996076   \n",
       "11  ESP_012600_1655_RED_resized_5.0m.tiff   Type-3  0.993024   \n",
       "12  ESP_012600_1655_RED_resized_5.0m.tiff   Crater  0.984109   \n",
       "13  ESP_012600_1655_RED_resized_5.0m.tiff   Crater  0.951020   \n",
       "14  ESP_012600_1655_RED_resized_5.0m.tiff   Crater  0.926981   \n",
       "15  ESP_012600_1655_RED_resized_5.0m.tiff   Crater  0.921223   \n",
       "16  ESP_012600_1655_RED_resized_5.0m.tiff   Crater  0.884942   \n",
       "17  ESP_012600_1655_RED_resized_5.0m.tiff   Crater  0.809708   \n",
       "18  ESP_013681_1765_RED_resized_5.0m.tiff   Type-4  0.951140   \n",
       "19  ESP_013681_1765_RED_resized_5.0m.tiff   Crater  0.936033   \n",
       "20  ESP_013681_1765_RED_resized_5.0m.tiff   Crater  0.930171   \n",
       "21  ESP_013681_1765_RED_resized_5.0m.tiff  Type-2a  0.843990   \n",
       "22  ESP_013681_1765_RED_resized_5.0m.tiff  Type-2a  0.825440   \n",
       "\n",
       "                                             geometry  \n",
       "0   POLYGON ((3505082.829 -852660.064, 3505152.848...  \n",
       "1   POLYGON ((3504667.717 -849234.887, 3504712.729...  \n",
       "2   POLYGON ((3502267.066 -840029.411, 3502562.146...  \n",
       "3   POLYGON ((3505342.900 -854160.141, 3505407.917...  \n",
       "4   POLYGON ((3505287.885 -853520.108, 3505362.905...  \n",
       "5   POLYGON ((3504727.733 -849784.915, 3504747.738...  \n",
       "6   POLYGON ((3507213.407 -849929.923, 3507258.419...  \n",
       "7   POLYGON ((3504752.740 -850289.941, 3504802.753...  \n",
       "8   POLYGON ((3505207.863 -853135.088, 3505277.882...  \n",
       "9   POLYGON ((3505082.829 -852660.064, 3505152.848...  \n",
       "10  POLYGON ((3504667.717 -849234.887, 3504712.729...  \n",
       "11  POLYGON ((3502267.066 -840029.411, 3502562.146...  \n",
       "12  POLYGON ((3505342.900 -854160.141, 3505407.917...  \n",
       "13  POLYGON ((3505287.885 -853520.108, 3505362.905...  \n",
       "14  POLYGON ((3504727.733 -849784.915, 3504747.738...  \n",
       "15  POLYGON ((3507213.407 -849929.923, 3507258.419...  \n",
       "16  POLYGON ((3504752.740 -850289.941, 3504802.753...  \n",
       "17  POLYGON ((3505207.863 -853135.088, 3505277.882...  \n",
       "18  POLYGON ((3933708.682 397855.352, 3933723.687 ...  \n",
       "19  POLYGON ((3934644.008 402750.493, 3934714.032 ...  \n",
       "20  POLYGON ((3935574.332 404235.535, 3935614.346 ...  \n",
       "21  POLYGON ((3934353.907 397235.335, 3934408.926 ...  \n",
       "22  POLYGON ((3933463.596 397240.335, 3933533.621 ...  "
      ]
     },
     "execution_count": 30,
     "metadata": {},
     "output_type": "execute_result"
    }
   ],
   "source": [
    "geoshapes"
   ]
  }
 ],
 "metadata": {
  "kernelspec": {
   "display_name": "Python 3 (ipykernel)",
   "language": "python",
   "name": "python3"
  },
  "language_info": {
   "codemirror_mode": {
    "name": "ipython",
    "version": 3
   },
   "file_extension": ".py",
   "mimetype": "text/x-python",
   "name": "python",
   "nbconvert_exporter": "python",
   "pygments_lexer": "ipython3",
   "version": "3.9.5"
  }
 },
 "nbformat": 4,
 "nbformat_minor": 4
}
