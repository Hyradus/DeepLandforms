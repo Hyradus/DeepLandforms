{
 "cells": [
  {
   "cell_type": "markdown",
   "id": "81b791e4-cc04-4b53-bcd5-fe2ddcbb283c",
   "metadata": {},
   "source": [
    "# **DeepLandforms - v2**\n",
    "\n",
    "Author: giacomo.nodjoumi@hyranet.info - g.nodjoumi@jacobs-university.de\n",
    "\n",
    "## DeepLandforms\n",
    "\n",
    "With this notebook, users can use custom [YOLOv8](https://github.com/ultralytics/ultralytics) trained models for object detection and instance segmentation models on custom dataset of georeferenced images.\n",
    "Results can be visualized directly in the noteboo using leafmap and WMS backend.\n",
    "\n",
    "The output consist of a folder containing:\n",
    "* Crop of the detections (georeferenced)\n",
    "* Label file in YOLO txt format for object detection\n",
    "* Geopackage containing a single layer with image name, confidence leve, class.\n",
    "\n",
    "## Usage\n",
    "\n",
    "* Put or link the dataset into the **DeepLandforms** *.env* file\n",
    "* Run docker-compose up\n",
    "* Edit the *configs* section by editing the following parameters:\n",
    "\n",
    "## Parameters\n",
    " ------------------------------------------------------------------\n",
    "| **Parameter** | **Description** | **Example** |\n",
    "| ---- | ---- | ---- |\n",
    "| **data_dir** | local path of the data dir |  | /home/user/data |\n",
    "| **dst_crs** | CRS of the final geopackage | provide as WKT or proj4 |\n",
    "| **device** | device where to run the model | cuda or cpu |\n",
    "------------------------------------------------------------------\n",
    "Then just execute the notebook and monitor the training in **Tensorboard** container.\n",
    "\n",
    "## Funding\n",
    "*This study is within the Europlanet 2024 RI and EXPLORE project, and it has received funding from the European Union’s Horizon 2020 research and innovation programme under grant agreement No 871149 and No 101004214.*"
   ]
  },
  {
   "cell_type": "code",
   "execution_count": 1,
   "id": "b4e248ab-67ef-4849-a2ca-b7c98d497ad2",
   "metadata": {},
   "outputs": [],
   "source": [
    "from pyproj.crs import CRS\n",
    "dst_crs = CRS.from_wkt('GEOGCRS[\"GCS_Mars_2000\",DATUM[\"D_Mars_2000\",ELLIPSOID[\"Mars_2000_IAU_IAG\",3396190,169.894447223612,LENGTHUNIT[\"metre\",1]]],PRIMEM[\"Reference_Meridian\",0,ANGLEUNIT[\"degree\",0.0174532925199433]],CS[ellipsoidal,2],AXIS[\"geodetic latitude (Lat)\",north,ORDER[1],ANGLEUNIT[\"degree\",0.0174532925199433]],AXIS[\"geodetic longitude (Lon)\",east,ORDER[2],ANGLEUNIT[\"degree\",0.0174532925199433]],USAGE[SCOPE[\"Not known.\"],AREA[\"World.\"],BBOX[-90,-180,90,180]],ID[\"ESRI\",104905]]')"
   ]
  },
  {
   "cell_type": "code",
   "execution_count": 2,
   "id": "c1b53588-e7b3-455d-8b29-55993c8e2458",
   "metadata": {},
   "outputs": [],
   "source": [
    "from ultralytics import YOLO\n",
    "import geopandas as gpd\n",
    "import json\n",
    "import math\n",
    "import numpy as np\n",
    "import os\n",
    "import pandas as pd\n",
    "import rasterio as rio\n",
    "from utils.utils import get_paths, window_calc, mask2shape, bboxes2df, bbox2points, box2geotiff,PlotMap"
   ]
  },
  {
   "cell_type": "code",
   "execution_count": 3,
   "id": "306f6205-16b2-4859-81f3-9bf55091a7b1",
   "metadata": {},
   "outputs": [],
   "source": [
    "test_dir = '/home/Giacomo/data/test'\n",
    "dst_dir = f\"{test_dir}/detections\"\n",
    "os.makedirs(dst_dir, exist_ok=True)"
   ]
  },
  {
   "cell_type": "code",
   "execution_count": 4,
   "id": "f892a7fe-8558-402c-b77c-66a4f1603521",
   "metadata": {},
   "outputs": [],
   "source": [
    "model_path= '/home/Giacomo/DeepLandforms/DeepLearning/DeepLandforms/Dockerbuild/Notebooks/YOLO/runs/detect/yolov8x_custom_640_multiclass_10m_Augm/weights/best.pt'\n",
    "model = YOLO(model_path)"
   ]
  },
  {
   "cell_type": "code",
   "execution_count": 5,
   "id": "ca574438-bfca-4cdb-afa0-66291d2234a5",
   "metadata": {},
   "outputs": [],
   "source": [
    "image_list = get_paths(test_dir, 'tiff')"
   ]
  },
  {
   "cell_type": "code",
   "execution_count": 6,
   "id": "95f5f83a-ca1f-4af9-aa01-4a31fc4e10ef",
   "metadata": {},
   "outputs": [],
   "source": [
    "cols = ['Image','Class','Conf']\n",
    "geo_shape = gpd.GeoDataFrame(columns=cols)#, crs=img.crs)\n",
    "geo_points = gpd.GeoDataFrame(columns=cols)#, crs=dst_crs)"
   ]
  },
  {
   "cell_type": "code",
   "execution_count": 7,
   "id": "23c7f4dc-9956-4e4c-b790-d253608a43a5",
   "metadata": {
    "scrolled": true
   },
   "outputs": [
    {
     "name": "stderr",
     "output_type": "stream",
     "text": [
      "\n",
      "image 1/1 /home/Giacomo/data/test/B08_012600_1656_XN_14S120W.tiff: 640x448 1 Type-2, 3 Type-3s, 6 Type-4s, 2 Craters, 28.5ms\n",
      "Speed: 2.4ms preprocess, 28.5ms inference, 1.5ms postprocess per image at shape (1, 3, 640, 640)\n",
      "\n",
      "image 1/1 /home/Giacomo/data/test/B08_012903_2163_XN_36N118W.tiff: 640x192 1 Type-1, 1 Type-2, 1 Type-4, 1 Crater, 22.2ms\n",
      "Speed: 2.3ms preprocess, 22.2ms inference, 0.8ms postprocess per image at shape (1, 3, 640, 640)\n",
      "\n",
      "image 1/1 /home/Giacomo/data/test/ESP_012600_1655_RED_resized_3.0m.tiff: 640x256 1 Type-1, 3 Type-3s, 13 Type-4s, 2 Craters, 22.2ms\n",
      "Speed: 0.9ms preprocess, 22.2ms inference, 0.8ms postprocess per image at shape (1, 3, 640, 640)\n"
     ]
    }
   ],
   "source": [
    "for file in image_list:\n",
    "    image=f\"{test_dir}/{file}\"\n",
    "    image_name, ext = os.path.splitext(os.path.basename(image))\n",
    "    image_dir = os.path.dirname(image)\n",
    "    img = rio.open(image)    \n",
    "    aff = img.transform\n",
    "    width = img.width\n",
    "    height = img.height\n",
    "    img_crs = img.crs\n",
    "    results = model.predict(image, project=\"project\",name=\"prediction\")#, imgsz=1024, conf=0.6)#, iou=0.3)#, half=True)  # predict on an imagesave_crop=True, save_txt=True, save_conf=True, \n",
    "    for result in results:#\n",
    "        bboxes = np.array(result.boxes.data.cpu())\n",
    "        xywh_bboxes = np.array(result.boxes.xywhn.data.cpu())\n",
    "        classes = np.array(result.boxes.cls.data.cpu())\n",
    "        confs = np.array(result.boxes.conf.data.cpu())\n",
    "        shapes=[]\n",
    "        for i, data in enumerate(bboxes):    \n",
    "            bbox = data[0:4]\n",
    "            conf = round(data[4],2)\n",
    "            cls = result.names[data[5]]\n",
    "            dst_name = box2geotiff(bbox, img,dst_dir, image_name, ext, cls, i)  \n",
    "        yolo_fdf = bboxes2df(xywh_bboxes, classes,confs, cols=['x','y','w','h'])\n",
    "        yolo_sdf=yolo_fdf[['Class','x','y','w','h']]#,'Conf']]\n",
    "        csv_name = f\"{dst_dir}/{image_name}.txt\"\n",
    "        yolo_sdf.to_csv(csv_name, header=False, sep=' ', index=False)        \n",
    "        yolo_gdf = bbox2points(yolo_fdf, image)#xywh_bboxes, image_name,width, height,image)        \n",
    "        if yolo_gdf.crs != dst_crs:            \n",
    "            yolo_gdf.to_crs(dst_crs, inplace=True)\n",
    "        geo_points=pd.concat([yolo_gdf, geo_points])\n",
    "geo_points.reset_index(drop=True)\n",
    "geo_points.crs=dst_crs\n",
    "point_gpkg = f\"{dst_dir}/point_detections.gpkg\"\n",
    "#geo_points.to_crs(dst_crs, inplace=True)\n",
    "geo_points.to_file(point_gpkg, layer='PointDetections', driver=\"GPKG\")"
   ]
  },
  {
   "cell_type": "code",
   "execution_count": 8,
   "id": "05dd4013-d44d-486b-819f-5001f4a21f13",
   "metadata": {},
   "outputs": [
    {
     "name": "stdout",
     "output_type": "stream",
     "text": [
      "Image must by in EPSG:4326\n"
     ]
    }
   ],
   "source": [
    "map_select = PlotMap(geo_points)"
   ]
  },
  {
   "cell_type": "code",
   "execution_count": 9,
   "id": "e7932412-82ba-4ce1-be32-59460bb6713c",
   "metadata": {},
   "outputs": [
    {
     "data": {
      "application/vnd.jupyter.widget-view+json": {
       "model_id": "0ec8f02d28d14f8681afc84c6343d219",
       "version_major": 2,
       "version_minor": 0
      },
      "text/plain": [
       "Map(center=[20, 0], controls=(ZoomControl(options=['position', 'zoom_in_text', 'zoom_in_title', 'zoom_out_text…"
      ]
     },
     "execution_count": 9,
     "metadata": {},
     "output_type": "execute_result"
    }
   ],
   "source": [
    "map_select.zoom_to_gdf(geo_points)\n",
    "map_select"
   ]
  },
  {
   "cell_type": "code",
   "execution_count": 10,
   "id": "73b9c657-0dd7-4319-90a7-ff50ee1a4b8b",
   "metadata": {},
   "outputs": [
    {
     "data": {
      "image/svg+xml": [
       "<svg xmlns=\"http://www.w3.org/2000/svg\" xmlns:xlink=\"http://www.w3.org/1999/xlink\" width=\"100.0\" height=\"100.0\" viewBox=\"-120.9605899272195 -15.304250376156556 2.0 2.0\" preserveAspectRatio=\"xMinYMin meet\"><g transform=\"matrix(1,0,0,-1,0,-28.608500752313113)\"><circle cx=\"-119.9605899272195\" cy=\"-14.304250376156556\" r=\"0.06\" stroke=\"#555555\" stroke-width=\"0.02\" fill=\"#66cc99\" opacity=\"0.6\" /></g></svg>"
      ],
      "text/plain": [
       "<POINT (-119.961 -14.304)>"
      ]
     },
     "execution_count": 10,
     "metadata": {},
     "output_type": "execute_result"
    }
   ],
   "source": [
    "geo_points.iloc[0].geometry"
   ]
  }
 ],
 "metadata": {
  "kernelspec": {
   "display_name": "Python 3 (ipykernel)",
   "language": "python",
   "name": "python3"
  },
  "language_info": {
   "codemirror_mode": {
    "name": "ipython",
    "version": 3
   },
   "file_extension": ".py",
   "mimetype": "text/x-python",
   "name": "python",
   "nbconvert_exporter": "python",
   "pygments_lexer": "ipython3",
   "version": "3.10.6"
  }
 },
 "nbformat": 4,
 "nbformat_minor": 5
}
