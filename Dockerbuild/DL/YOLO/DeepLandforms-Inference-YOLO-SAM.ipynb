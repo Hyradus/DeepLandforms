{
 "cells": [
  {
   "cell_type": "markdown",
   "id": "81b791e4-cc04-4b53-bcd5-fe2ddcbb283c",
   "metadata": {},
   "source": [
    "# **DeepLandforms - v2**\n",
    "\n",
    "Author: giacomo.nodjoumi@hyranet.info - g.nodjoumi@jacobs-university.de\n",
    "\n",
    "## DeepLandforms\n",
    "\n",
    "With this notebook, users can use custom [YOLOv8](https://github.com/ultralytics/ultralytics) trained models for object detection and instance segmentation models on custom dataset of georeferenced images.\n",
    "Results can be visualized directly in the noteboo using leafmap and WMS backend.\n",
    "\n",
    "The output consist of a folder containing:\n",
    "* Crop of the detections (georeferenced)\n",
    "* Label file in COCO json format for each image for segmentation\n",
    "* Label file in YOLO txt format for object detection\n",
    "* Geopackage containing a single layer with image name, confidence leve, class.\n",
    "\n",
    "## Usage\n",
    "\n",
    "* Put or link the dataset into the **DeepLandforms** *.env* file\n",
    "* Run docker-compose up\n",
    "* Edit the *configs* section by editing the following parameters:\n",
    "\n",
    "## Parameters\n",
    " ------------------------------------------------------------------\n",
    "| **Parameter** | **Description** | **Example** |\n",
    "| ---- | ---- | ---- |\n",
    "| **data_dir** | local path of the data dir |  | /home/user/data |\n",
    "| **model_path** | local path and name of the model  | /home/user/data/best.pt |\n",
    "| **sam_checkpoint** | Segment Anything checkpoint for instance segmentation | /home/user/data/sam_vit_h_4b8939.pth |\n",
    "| **dst_crs** | CRS of the final geopackage | provide as WKT or proj4 |\n",
    "| **device** | device where to run the model | cuda or cpu |\n",
    "------------------------------------------------------------------\n",
    "Then just execute the notebook and monitor the training in **Tensorboard** container.\n",
    "\n",
    "## Funding\n",
    "*This study is within the Europlanet 2024 RI and EXPLORE project, and it has received funding from the European Union’s Horizon 2020 research and innovation programme under grant agreement No 871149 and No 101004214.*"
   ]
  },
  {
   "cell_type": "code",
   "execution_count": 1,
   "id": "b4e248ab-67ef-4849-a2ca-b7c98d497ad2",
   "metadata": {},
   "outputs": [],
   "source": [
    "from pyproj.crs import CRS\n",
    "dst_crs = CRS.from_wkt('GEOGCRS[\"GCS_Mars_2000\",DATUM[\"D_Mars_2000\",ELLIPSOID[\"Mars_2000_IAU_IAG\",3396190,169.894447223612,LENGTHUNIT[\"metre\",1]]],PRIMEM[\"Reference_Meridian\",0,ANGLEUNIT[\"degree\",0.0174532925199433]],CS[ellipsoidal,2],AXIS[\"geodetic latitude (Lat)\",north,ORDER[1],ANGLEUNIT[\"degree\",0.0174532925199433]],AXIS[\"geodetic longitude (Lon)\",east,ORDER[2],ANGLEUNIT[\"degree\",0.0174532925199433]],USAGE[SCOPE[\"Not known.\"],AREA[\"World.\"],BBOX[-90,-180,90,180]],ID[\"ESRI\",104905]]')\n",
    "#dst_crs = CRS.from_wkt('PROJCS[\"Moon_2000_Equidistant_Cylindrical\",GEOGCS[\"GCS_Moon_2000\",DATUM[\"D_Moon_2000\",SPHEROID[\"Moon_2000_IAU_IAG\",1737400.0,0.0]],PRIMEM[\"Reference_Meridian\",0.0],UNIT[\"Degree\",0.0174532925199433]],PROJECTION[\"Equidistant_Cylindrical_Ellipsoidal\"],PARAMETER[\"False_Easting\",0.0],PARAMETER[\"False_Northing\",0.0],PARAMETER[\"Central_Meridian\",0.0],PARAMETER[\"Standard_Parallel_1\",0.0],UNIT[\"Meter\",1.0]]')"
   ]
  },
  {
   "cell_type": "code",
   "execution_count": 2,
   "id": "c1b53588-e7b3-455d-8b29-55993c8e2458",
   "metadata": {},
   "outputs": [],
   "source": [
    "from ultralytics import YOLO\n",
    "import geopandas as gpd\n",
    "import json\n",
    "import math\n",
    "import numpy as np\n",
    "import os\n",
    "import pandas as pd\n",
    "import rasterio as rio\n",
    "from utils.utils import get_paths, window_calc, mask2shape, bboxes2df, bbox2points, box2geotiff, box2sam, PlotMap"
   ]
  },
  {
   "cell_type": "code",
   "execution_count": 5,
   "id": "306f6205-16b2-4859-81f3-9bf55091a7b1",
   "metadata": {},
   "outputs": [],
   "source": [
    "test_dir = '/home/Giacomo/data/CTX-HiRISE-TEST_YOLOSAM/'\n",
    "dst_dir = f\"{test_dir}/detections\"\n",
    "os.makedirs(dst_dir, exist_ok=True)"
   ]
  },
  {
   "cell_type": "code",
   "execution_count": 6,
   "id": "f892a7fe-8558-402c-b77c-66a4f1603521",
   "metadata": {},
   "outputs": [],
   "source": [
    "model_path= '/home/Giacomo/DeepLandforms/YOLO/runs/detect/yolov8s_640_8_3m_28082023_4/weights/best.pt'\n",
    "model = YOLO(model_path)"
   ]
  },
  {
   "cell_type": "code",
   "execution_count": 7,
   "id": "60eebfb9-7413-490c-a206-54c0cb54f21a",
   "metadata": {},
   "outputs": [],
   "source": [
    "from segment_anything import sam_model_registry, SamAutomaticMaskGenerator, SamPredictor\n",
    "SamAutomaticMaskGenerator, SamPredictor\n",
    "sam_checkpoint = \"/home/Giacomo/data/sam_vit_h_4b8939.pth\"\n",
    "model_type = \"vit_h\"\n",
    "sam = sam_model_registry[model_type](checkpoint=sam_checkpoint)\n",
    "sam.to(device=\"cuda\")\n",
    "predictor = SamPredictor(sam)"
   ]
  },
  {
   "cell_type": "code",
   "execution_count": 9,
   "id": "ca574438-bfca-4cdb-afa0-66291d2234a5",
   "metadata": {},
   "outputs": [],
   "source": [
    "image_list = get_paths(test_dir, 'tiff')"
   ]
  },
  {
   "cell_type": "code",
   "execution_count": 10,
   "id": "95f5f83a-ca1f-4af9-aa01-4a31fc4e10ef",
   "metadata": {},
   "outputs": [],
   "source": [
    "cols = ['Image','Class','Conf']\n",
    "geo_shape = gpd.GeoDataFrame(columns=cols)#, crs=img.crs)\n",
    "geo_points = gpd.GeoDataFrame(columns=cols)#, crs=dst_crs)"
   ]
  },
  {
   "cell_type": "code",
   "execution_count": 11,
   "id": "d96c197a-6d19-461e-afa4-15f710492dc2",
   "metadata": {},
   "outputs": [
    {
     "data": {
      "text/plain": [
       "['B11_013869_2027_XN_22N210W.tiff',\n",
       " 'B11_013879_1720_XN_08S119W.tiff',\n",
       " 'B12_014278_2053_XN_25N216W.tiff',\n",
       " 'B05_011756_1734_XN_06S120W_H0_V0_resized_10.0m.tiff']"
      ]
     },
     "execution_count": 11,
     "metadata": {},
     "output_type": "execute_result"
    }
   ],
   "source": [
    "image_list"
   ]
  },
  {
   "cell_type": "markdown",
   "id": "9a5f813c-7804-4cd9-ba21-6bb0b857c7ec",
   "metadata": {},
   "source": [
    "geo_points=gpd.read_file('/home/Giacomo/data/BC_n_SQCRP_n_CellSize_5_m_LIM_n_None_px_cog_n/detections/point_detections.gpkg')\n",
    "geo_shape = gpd.read_file('/home/Giacomo/data/BC_n_SQCRP_n_CellSize_5_m_LIM_n_None_px_cog_n/detections/shape_detections.gpkg')"
   ]
  },
  {
   "cell_type": "code",
   "execution_count": 12,
   "id": "23c7f4dc-9956-4e4c-b790-d253608a43a5",
   "metadata": {},
   "outputs": [
    {
     "name": "stderr",
     "output_type": "stream",
     "text": [
      "\n",
      "image 1/1 /home/Giacomo/data/CTX-HiRISE-TEST_YOLOSAM/B11_013869_2027_XN_22N210W.tiff: 640x224 (no detections), 44.5ms\n",
      "Speed: 3.5ms preprocess, 44.5ms inference, 0.8ms postprocess per image at shape (1, 3, 640, 224)\n",
      "\n",
      "image 1/1 /home/Giacomo/data/CTX-HiRISE-TEST_YOLOSAM/B11_013879_1720_XN_08S119W.tiff: 640x416 1 Type-4, 43.6ms\n",
      "Speed: 3.8ms preprocess, 43.6ms inference, 2.0ms postprocess per image at shape (1, 3, 640, 416)\n",
      "\n",
      "image 1/1 /home/Giacomo/data/CTX-HiRISE-TEST_YOLOSAM/B12_014278_2053_XN_25N216W.tiff: 640x160 (no detections), 41.7ms\n",
      "Speed: 3.0ms preprocess, 41.7ms inference, 0.5ms postprocess per image at shape (1, 3, 640, 160)\n",
      "\n",
      "image 1/1 /home/Giacomo/data/CTX-HiRISE-TEST_YOLOSAM/B05_011756_1734_XN_06S120W_H0_V0_resized_10.0m.tiff: 640x512 1 Type-1, 47.0ms\n",
      "Speed: 4.1ms preprocess, 47.0ms inference, 1.0ms postprocess per image at shape (1, 3, 640, 512)\n"
     ]
    }
   ],
   "source": [
    "for file in image_list:\n",
    "    try:\n",
    "        image=f\"{test_dir}/{file}\"\n",
    "        image_name, ext = os.path.splitext(os.path.basename(image))\n",
    "        \n",
    "        image_dir = os.path.dirname(image)\n",
    "        img = rio.open(image)    \n",
    "        aff = img.transform\n",
    "        width = img.width\n",
    "        height = img.height\n",
    "        img_crs = img.crs\n",
    "        results = model.predict(image, project=\"project\",name=\"prediction\", imgsz=640, conf=0.2)#, iou=0.3)#, half=True)  # predict on an imagesave_crop=True, save_txt=True, save_conf=True, \n",
    "        for result in results:#\n",
    "            bboxes = np.array(result.boxes.data.cpu())\n",
    "            xywh_bboxes = np.array(result.boxes.xywhn.data.cpu())\n",
    "            classes = np.array(result.boxes.cls.data.cpu()).astype(int)\n",
    "            confs = np.array(result.boxes.conf.data.cpu())\n",
    "            shapes=[]\n",
    "            for i, data in enumerate(bboxes):    \n",
    "                bbox = data[0:4]\n",
    "                conf = round(data[4],2)\n",
    "                cls = result.names[data[5]]\n",
    "                dst_name = box2geotiff(bbox, img,dst_dir, image_name, ext, cls, i)\n",
    "    \n",
    "                sam_gdf, shape_dict = box2sam(predictor, image, bbox, img_crs, conf, cls)\n",
    "                shapes.append(shape_dict)\n",
    "                if sam_gdf.crs != dst_crs:            \n",
    "                    sam_gdf.to_crs(dst_crs, inplace=True)\n",
    "                geo_shape=pd.concat([sam_gdf, geo_shape])\n",
    "            \n",
    "            yolo_fdf = bboxes2df(xywh_bboxes, classes,confs, cols=['x','y','w','h'])\n",
    "            yolo_sdf=yolo_fdf[['Class','x','y','w','h']]#,'Conf']]\n",
    "            csv_name = f\"{dst_dir}/{image_name}.txt\"\n",
    "            yolo_sdf.to_csv(csv_name, header=False, sep=' ', index=False)        \n",
    "            yolo_gdf = bbox2points(yolo_fdf, image)#xywh_bboxes, image_name,width, height,image)        \n",
    "            if yolo_gdf.crs != dst_crs:            \n",
    "                yolo_gdf.to_crs(dst_crs, inplace=True)\n",
    "            geo_points=pd.concat([yolo_gdf, geo_points])\n",
    "        \n",
    "        label_dict = {\n",
    "          \"version\": \"5.2.1\",\n",
    "          \"flags\": {},\n",
    "          \"shapes\": shapes,\n",
    "          \"imagePath\": os.path.basename(image),\n",
    "          \"imageData\": None,\n",
    "          \"imageHeight\": height,\n",
    "          \"imageWidth\": width\n",
    "        }\n",
    "        \n",
    "        json_name = f\"{dst_dir}/{image_name}.json\"\n",
    "        out_file = open(json_name, 'w')\n",
    "        json.dump(label_dict,out_file,indent=2)\n",
    "        out_file.close()      \n",
    "    except Exception as e:\n",
    "        print(e)\n",
    "            \n",
    "        \n",
    "geo_points.reset_index(drop=True)\n",
    "geo_points.crs=dst_crs\n",
    "point_gpkg = f\"{dst_dir}/point_detections.gpkg\"\n",
    "#geo_points.to_crs(dst_crs, inplace=True)\n",
    "geo_points.to_file(point_gpkg, layer='PointDetections', driver=\"GPKG\")\n",
    "\n",
    "\n",
    "geo_shape.reset_index(drop=True)\n",
    "geo_shape.crs=dst_crs\n",
    "shape_gpkg = f\"{dst_dir}/shape_detections.gpkg\"\n",
    "#geo_points.to_crs(dst_crs, inplace=True)\n",
    "geo_shape.to_file(shape_gpkg, layer='ShapesDetections', driver=\"GPKG\")"
   ]
  },
  {
   "cell_type": "code",
   "execution_count": null,
   "id": "e89f914b-c787-4b30-82a4-df6b0b6af88c",
   "metadata": {
    "scrolled": true
   },
   "outputs": [],
   "source": [
    "map_select = PlotMap('Mars')\n",
    "#geo_points.crs = \"EPSG:4326\"\n",
    "#map_select.add_gdf(geo_points,layer_name='PointsDetections')\n",
    "\n",
    "map_select"
   ]
  },
  {
   "cell_type": "code",
   "execution_count": null,
   "id": "41de9727-c5f7-4b72-b2a9-dbf62d7f3ea7",
   "metadata": {},
   "outputs": [],
   "source": [
    "aaa"
   ]
  },
  {
   "cell_type": "code",
   "execution_count": null,
   "id": "4c1e4b14-ccbe-43fd-b609-32a3b3137887",
   "metadata": {},
   "outputs": [],
   "source": [
    "moon2000=CRS.from_wkt('GEOGCS[\"GCS_Moon_2000\",DATUM[\"D_Moon_2000\",SPHEROID[\"Moon_2000_IAU_IAG\",1737400.0,0.0]],PRIMEM[\"Reference_Meridian\",0.0],UNIT[\"Degree\",0.0174532925199433]]')\n"
   ]
  },
  {
   "cell_type": "code",
   "execution_count": null,
   "id": "b316443b-70de-4804-a124-2159bc172579",
   "metadata": {},
   "outputs": [],
   "source": [
    "geo_points_crs = geo_points.copy()\n",
    "#geo_points.crs = dst_crs#\"EPSG:4326\"\n",
    "geo_points_crs=geo_points_crs.to_crs(dst_crs)\n",
    "#geo_points_crs\n",
    "geo_points_crs.crs =\"EPSG:4326\"\n",
    "geo_points_crs.crs"
   ]
  },
  {
   "cell_type": "code",
   "execution_count": null,
   "id": "9431f753-80a9-4951-a69a-ce2a6faa38fb",
   "metadata": {},
   "outputs": [],
   "source": [
    "geo_shape_crs = geo_shape.copy()\n",
    "#geo_shape_crs= geo_shape_crs.to_crs(moon2000)\n",
    "geo_shape_crs.crs = \"EPSG:4326\"\n",
    "\n",
    "map_select.add_gdf(geo_shape_crs,layer_name='Detections',fill_colors=[\"red\", \"green\", \"blue\"])#,style = style,)\n",
    "map_select.add_gdf(geo_points_crs,layer_name='PointsDetections',fill_colors=[\"red\", \"green\", \"blue\"])#,style = style,)\n",
    "map_select"
   ]
  },
  {
   "cell_type": "code",
   "execution_count": null,
   "id": "e21d64fd-50b2-4585-8090-a7bf25a33083",
   "metadata": {},
   "outputs": [],
   "source": [
    "\n",
    "map_select"
   ]
  },
  {
   "cell_type": "code",
   "execution_count": null,
   "id": "884520d1-61d2-4079-a728-f0209c5b0cc8",
   "metadata": {
    "scrolled": true
   },
   "outputs": [],
   "source": [
    "geo_shape_crs = geo_shape.copy()\n",
    "\n",
    "geo_shape_crs.crs = \"EPSG:4326\"\n",
    "geo_shape= geo_shape.to_crs(moon2000)\n",
    "map_select.add_gdf(geo_shape_crs,layer_name='Detections',fill_colors=[\"red\", \"green\", \"blue\"])#,style = style,)\n",
    "map_select"
   ]
  },
  {
   "cell_type": "code",
   "execution_count": null,
   "id": "4c6dc9bf-d84a-4421-861f-301883d2aae8",
   "metadata": {},
   "outputs": [],
   "source": [
    "geo_shape_crs"
   ]
  },
  {
   "cell_type": "code",
   "execution_count": 14,
   "id": "339e1c2e-43fa-41cc-be91-674a0006a50e",
   "metadata": {},
   "outputs": [],
   "source": [
    "from sahi import AutoDetectionModel\n",
    "from sahi.predict import get_sliced_prediction, visualize_object_predictions\n",
    "from sahi.utils.cv import read_image_as_pil"
   ]
  },
  {
   "cell_type": "code",
   "execution_count": 29,
   "id": "600a3101-dd22-4094-9992-de638d88b1db",
   "metadata": {},
   "outputs": [],
   "source": [
    "detection_model = AutoDetectionModel.from_pretrained(\n",
    "    model_type='yolov8',\n",
    "    model_path=model_path,\n",
    "    confidence_threshold=0.8,\n",
    "    device=\"cuda:0\", # or 'cpu'\n",
    ")"
   ]
  },
  {
   "cell_type": "code",
   "execution_count": 24,
   "id": "8bba3ede-8b31-4101-932b-3b1a2750e7c3",
   "metadata": {},
   "outputs": [
    {
     "data": {
      "text/plain": [
       "['B11_013869_2027_XN_22N210W.tiff',\n",
       " 'B11_013879_1720_XN_08S119W.tiff',\n",
       " 'B12_014278_2053_XN_25N216W.tiff',\n",
       " 'B05_011756_1734_XN_06S120W_H0_V0_resized_10.0m.tiff']"
      ]
     },
     "execution_count": 24,
     "metadata": {},
     "output_type": "execute_result"
    }
   ],
   "source": [
    "image_list"
   ]
  },
  {
   "cell_type": "code",
   "execution_count": 32,
   "id": "f63de97d-2c8e-46ca-8746-c70d9de59c43",
   "metadata": {},
   "outputs": [
    {
     "name": "stdout",
     "output_type": "stream",
     "text": [
      "/home/Giacomo/data/CTX-HiRISE-TEST_YOLOSAM//B11_013869_2027_XN_22N210W.tiff\n",
      "Performing prediction on 616 number of slices.\n"
     ]
    }
   ],
   "source": [
    "image=f\"{test_dir}/{image_list[0]}\"\n",
    "print(f\"{image}\")\n",
    "result = get_sliced_prediction(\n",
    "    image,\n",
    "    detection_model,\n",
    "    slice_height = 640,\n",
    "    slice_width = 640,\n",
    "    overlap_height_ratio = 0.2,\n",
    "    overlap_width_ratio = 0.2\n",
    ")"
   ]
  },
  {
   "cell_type": "code",
   "execution_count": 33,
   "id": "666be64c-f6ff-440e-a95c-0c85d88f39da",
   "metadata": {},
   "outputs": [],
   "source": [
    "result.export_visuals(export_dir=f\"{test_dir}/results.jpg\")\n",
    "\n",
    "#Image(\"demo_data/prediction_visual.png\")"
   ]
  },
  {
   "cell_type": "code",
   "execution_count": null,
   "id": "917e49c2-ff73-4cd9-b192-8b0cdcd464ee",
   "metadata": {
    "scrolled": true
   },
   "outputs": [],
   "source": [
    "import cv2\n",
    "from PIL import Image\n",
    "import numpy as np\n",
    "img = cv2.imread(image)\n",
    "img_converted = cv2.cvtColor(img, cv2.COLOR_BGR2RGB)\n",
    "numpydata = np.asarray(img_converted)\n",
    "visualize_object_predictions(\n",
    "    numpydata, \n",
    "    object_prediction_list = result.object_prediction_list,\n",
    "    hide_labels = 1, \n",
    "    output_dir='./',\n",
    "    file_name = 'result',\n",
    "    export_format = 'png'\n",
    ")\n",
    "#Image.Image('demo_data/result.png')"
   ]
  }
 ],
 "metadata": {
  "kernelspec": {
   "display_name": "Python 3 (ipykernel)",
   "language": "python",
   "name": "python3"
  },
  "language_info": {
   "codemirror_mode": {
    "name": "ipython",
    "version": 3
   },
   "file_extension": ".py",
   "mimetype": "text/x-python",
   "name": "python",
   "nbconvert_exporter": "python",
   "pygments_lexer": "ipython3",
   "version": "3.10.6"
  }
 },
 "nbformat": 4,
 "nbformat_minor": 5
}
