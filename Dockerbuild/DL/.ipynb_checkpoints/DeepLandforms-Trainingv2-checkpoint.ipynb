{
 "cells": [
  {
   "cell_type": "markdown",
   "metadata": {},
   "source": [
    "# **DeepLandforms**\n",
    "**Running this notebook on georeferenced images with a pre-trained model will map landforms automatically landforms and create a geopackage\n",
    "\n",
    "\n",
    "Author: giacomo.nodjoumi@hyranet.info - g.nodjoumi@jacobs-university.de\n"
   ]
  },
  {
   "cell_type": "code",
   "execution_count": null,
   "metadata": {},
   "outputs": [],
   "source": [
    "import cv2\n",
    "import detectron2\n",
    "from detectron2 import model_zoo\n",
    "from detectron2.config import get_cfg\n",
    "from detectron2.utils.visualizer import Visualizer\n",
    "%matplotlib inline\n",
    "from matplotlib import pyplot as plt\n",
    "import os\n",
    "import random\n",
    "import torch\n",
    "from utils.train_utils import categories_gen, classes_distribution, dataframes_gen, dataMover, datasetReg, Trainer\n",
    "from detectron2.evaluation import COCOEvaluator"
   ]
  },
  {
   "cell_type": "code",
   "execution_count": null,
   "metadata": {},
   "outputs": [],
   "source": [
    "dataset, meta, classes , train_dir, image_path = datasetReg()"
   ]
  },
  {
   "cell_type": "code",
   "execution_count": null,
   "metadata": {},
   "outputs": [],
   "source": [
    "train_df_dis, valid_df_dis, test_df_dis, train, valid, test = dataframes_gen(classes, dataset)"
   ]
  },
  {
   "cell_type": "code",
   "execution_count": null,
   "metadata": {},
   "outputs": [],
   "source": [
    "dataMover(image_path, train, valid, test)"
   ]
  },
  {
   "cell_type": "code",
   "execution_count": null,
   "metadata": {},
   "outputs": [],
   "source": [
    "label = classes\n",
    "plt.figure(figsize = (10,5), facecolor='white',dpi=300)\n",
    "plt.suptitle('Class-labels distributions', fontsize=15)\n",
    "ax1 = plt.subplot(131)\n",
    "train_df_dis.groupby(['Class']).count().plot(kind='pie', figsize=(10,10), autopct=lambda p:f'{p:.2f}%, \\n{p*len(train_df_dis)/100:.0f} labels',startangle=90, subplots=True, ax =ax1, fontsize=5, legend=False)\n",
    "plt.title('Train Data\\n{} Labels'.format(len(train_df_dis), loc='center'))\n",
    "ax2 = plt.subplot(132)\n",
    "valid_df_dis.groupby(['Class']).count().plot(kind='pie', figsize=(10,10),autopct=lambda p:f'{p:.2f}%, \\n{p*len(valid_df_dis)/100:.0f} labels',startangle=90, subplots=True, ax =ax2, fontsize=5,legend=False)\n",
    "plt.title('Valid Data\\n{} Labels'.format(len(valid_df_dis), loc='center', ))\n",
    "ax3 = plt.subplot(133)\n",
    "test_df_dis.groupby(['Class']).count().plot(kind='pie', figsize=(10,10),autopct=lambda p:f'{p:.2f}%, \\n{p*len(test_df_dis)/100:.0f} labels',startangle=90, subplots=True, ax =ax3, fontsize=5,legend=False)\n",
    "plt.title('Test Data\\n{} Labels'.format(len(test_df_dis), loc='center', ))"
   ]
  },
  {
   "cell_type": "code",
   "execution_count": null,
   "metadata": {},
   "outputs": [],
   "source": [
    "for d in random.sample(train, 1):\n",
    "    img_path = d[\"file_name\"]\n",
    "    print(img_path)\n",
    "    img = cv2.imread(img_path)\n",
    "    visualizer = Visualizer(img[:, :, 1:-1], metadata=meta, scale=2)\n",
    "    out = visualizer.draw_dataset_dict(d)\n",
    "    fig = plt.figure(figsize=(10,10))\n",
    "    plt.imshow(out.get_image()[:, :, :])"
   ]
  },
  {
   "cell_type": "markdown",
   "metadata": {},
   "source": [
    "## EDIT BEFORE RUN"
   ]
  },
  {
   "cell_type": "code",
   "execution_count": null,
   "metadata": {},
   "outputs": [],
   "source": [
    "cfg = get_cfg()\n",
    "cfg.merge_from_file(model_zoo.get_config_file(\"COCO-InstanceSegmentation/mask_rcnn_R_50_FPN_3x.yaml\"))\n",
    "#cfg.merge_from_file(model_zoo.get_config_file(\"COCO-InstanceSegmentation/mask_rcnn_R_101_FPN_3x.yaml\"))\n",
    "cfg.DATASETS.TRAIN = ('train_data',)\n",
    "cfg.DATASETS.TEST = ('valid_data',)\n",
    "cfg.TEST.EVAL_PERIOD = 100\n",
    "cfg.DATALOADER.NUM_WORKERS = 8\n",
    "cfg.MODEL.WEIGHTS = model_zoo.get_checkpoint_url(\"COCO-InstanceSegmentation/mask_rcnn_R_50_FPN_3x.yaml\")  # Let training initialize from model zoo\n",
    "#cfg.MODEL.WEIGHTS = model_zoo.get_checkpoint_url(\"COCO-InstanceSegmentation/mask_rcnn_R_101_FPN_3x.yaml\")  # Let training initialize from model zoo\n",
    "cfg.SOLVER.IMS_PER_BATCH = 1\n",
    "cfg.SOLVER.BASE_LR = 0.002 \n",
    "cfg.SOLVER.MAX_ITER = 5000 \n",
    "cfg.MODEL.ROI_HEADS.BATCH_SIZE_PER_IMAGE =  128 \n",
    "cfg.MODEL.ROI_HEADS.NUM_CLASSES = len(classes)  \n",
    "cfg.OUTPUT_DIR = train_dir"
   ]
  },
  {
   "cell_type": "code",
   "execution_count": null,
   "metadata": {},
   "outputs": [],
   "source": [
    "# RUN\n",
    "os.makedirs(cfg.OUTPUT_DIR, exist_ok=True)\n",
    "trainer = Trainer(cfg)"
   ]
  },
  {
   "cell_type": "code",
   "execution_count": null,
   "metadata": {},
   "outputs": [],
   "source": [
    "trainer.resume_or_load(resume=False)\n",
    "trainer.train()"
   ]
  }
 ],
 "metadata": {
  "kernelspec": {
   "display_name": "Python 3",
   "language": "python",
   "name": "python3"
  },
  "language_info": {
   "codemirror_mode": {
    "name": "ipython",
    "version": 3
   },
   "file_extension": ".py",
   "mimetype": "text/x-python",
   "name": "python",
   "nbconvert_exporter": "python",
   "pygments_lexer": "ipython3",
   "version": "3.9.5"
  }
 },
 "nbformat": 4,
 "nbformat_minor": 4
}
